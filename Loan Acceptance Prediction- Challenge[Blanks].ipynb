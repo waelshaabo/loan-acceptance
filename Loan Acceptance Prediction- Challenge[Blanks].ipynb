{
 "cells": [
  {
   "cell_type": "markdown",
   "metadata": {
    "id": "elgDcjlyK-lQ"
   },
   "source": [
    "NavyBits\n",
    "---\n",
    "##Case Study: Loan Status\n",
    "**Objective:**\n",
    "In this exercise, we will explore a dataset of Loan data with the below info. We will try later to predict the status of loan for individuals based the following information.</font>\n",
    "\n",
    "## DataSet Description\n",
    "\n",
    "- **Loan_ID:** data set unique ID <br>\n",
    "- **Gender:** individual gender<br>\n",
    "- **Married:** individual marital status<br>\n",
    "- **Dependents:** number of dependents<br>\n",
    "- **Education:** individual education status<br>\n",
    "- **Self_Employed:** individual employment status<br>\n",
    "- **ApplicantIncome:** individual income<br>\n",
    "- **CoapplicantIncome:** individual Coapplicant income<br>\n",
    "- **LoanAmount:** Loan amount in thousands<br>\n",
    "- **Loan_Amount_Term:** term of loan in months<br>\n",
    "- **Credit_History:** credit history meets guidelines<br>\n",
    "- **Property_Area:** Urban/ Semi Urban/ Rural<br>\n",
    "- **Loan_Status:** loan approved (Y/N)<br>"
   ]
  },
  {
   "cell_type": "markdown",
   "metadata": {
    "id": "KIFhQSUBK-lS"
   },
   "source": [
    "# 1. Import necessary python modules (libraries)\n",
    "<br>\n",
    "We will need the following libraries:\n",
    "\n",
    "- Numpy — for scientific computing (e.g., linear algebra (vectors & matrices)).\n",
    "- Pandas — providing high-performance, easy-to-use data reading, manipulation, and analysis.\n",
    "- Matplotlib & seaborn — plotting & visualization.\n",
    "- scikit-learn — a tool for data mining and machine learning models. We will need from it the following functions: LabelEncoder, train_test_split, LogisticRegression, and accuracy_score"
   ]
  },
  {
   "cell_type": "code",
   "execution_count": null,
   "metadata": {
    "id": "xZwyPrVkK-lT"
   },
   "outputs": [],
   "source": [
    "#Test Your knowledge"
   ]
  },
  {
   "cell_type": "markdown",
   "metadata": {
    "id": "4xjXdDyTK-lW"
   },
   "source": [
    "# 2. Read & visualize data\n",
    "To load the data to our code, we use pandas module, more specifically, the read_csv function."
   ]
  },
  {
   "cell_type": "markdown",
   "metadata": {
    "id": "x4KVJodDK-lX"
   },
   "source": [
    "Combine the two dataset in order to apply the same preprocessing steps in both dataframes\n",
    "Don't forget to print the head of your dataset to get a better insight into it."
   ]
  },
  {
   "cell_type": "code",
   "execution_count": null,
   "metadata": {
    "id": "eaN-1eM5K-lX"
   },
   "outputs": [],
   "source": [
    "#Test Your knowledge"
   ]
  },
  {
   "cell_type": "markdown",
   "metadata": {
    "id": "WKcAeoOVK-ld"
   },
   "source": [
    "# 3. Exploratory Data Analysis\n"
   ]
  },
  {
   "cell_type": "markdown",
   "metadata": {
    "id": "HdPXa1qesHAT"
   },
   "source": [
    "Start by getting the number of rows and the number of columns that you have in your dataset"
   ]
  },
  {
   "cell_type": "code",
   "execution_count": null,
   "metadata": {
    "id": "-DmXe7W2K-ld"
   },
   "outputs": [],
   "source": [
    "#Test Your knowledge"
   ]
  },
  {
   "cell_type": "markdown",
   "metadata": {
    "id": "RVH8LAjLK-lg"
   },
   "source": [
    "##### Use the function info(), to check:\n",
    "\n",
    "- data types (int, float, or object (e.g., string))\n",
    "- missing values\n",
    "- memory usage\n",
    "- number of rows and columns"
   ]
  },
  {
   "cell_type": "code",
   "execution_count": null,
   "metadata": {
    "id": "kesvYr2pK-lg"
   },
   "outputs": [],
   "source": [
    "#Test Your knowledge"
   ]
  },
  {
   "cell_type": "markdown",
   "metadata": {
    "id": "eZ15pJj2K-lj"
   },
   "source": [
    "Where did you find some missing values?     "
   ]
  },
  {
   "cell_type": "markdown",
   "metadata": {
    "id": "bZOtGLcNHBUo"
   },
   "source": [
    "**[Share your knowledge here]**\n",
    "\n"
   ]
  },
  {
   "cell_type": "markdown",
   "metadata": {
    "id": "W4ebzltrK-lj"
   },
   "source": [
    "##### Use the function describe(), to check the following  values for each numerical feature (column)\n",
    "- mean\n",
    "- standard deviation\n",
    "- maximum\n",
    "- minimum\n"
   ]
  },
  {
   "cell_type": "code",
   "execution_count": null,
   "metadata": {
    "id": "ECiIV49DK-lk"
   },
   "outputs": [],
   "source": [
    "#Test Your knowledge"
   ]
  },
  {
   "cell_type": "markdown",
   "metadata": {
    "id": "QsmkavZQK-ln"
   },
   "source": [
    "Print the unique values of the variable Credit_History"
   ]
  },
  {
   "cell_type": "code",
   "execution_count": null,
   "metadata": {
    "id": "uYPOBUMYK-ln"
   },
   "outputs": [],
   "source": [
    "#Test Your knowledge"
   ]
  },
  {
   "cell_type": "markdown",
   "metadata": {
    "id": "bOBFeq9EK-lq"
   },
   "source": [
    "Do the same with the variable Loan_Amount_Term"
   ]
  },
  {
   "cell_type": "code",
   "execution_count": null,
   "metadata": {
    "id": "mdUjK1DPK-lq"
   },
   "outputs": [],
   "source": [
    "#Test Your knowledge"
   ]
  },
  {
   "cell_type": "markdown",
   "metadata": {
    "id": "-o9MT0LcK-ls"
   },
   "source": [
    "##### Use the function describe(include='o'), to check the following  values for each categorical feature:\n",
    "* count\n",
    "* unique\n",
    "* top\n",
    "* freq\n"
   ]
  },
  {
   "cell_type": "code",
   "execution_count": null,
   "metadata": {
    "id": "jrSrdNS1K-lt"
   },
   "outputs": [],
   "source": [
    "#Test Your knowledge"
   ]
  },
  {
   "cell_type": "markdown",
   "metadata": {
    "id": "YiTCWqkGu0vZ"
   },
   "source": [
    "Interpret the results you obtained for the variable Gender"
   ]
  },
  {
   "cell_type": "markdown",
   "metadata": {
    "id": "WYpDPsZeHQZe"
   },
   "source": [
    "**[Share your knowledge here]**"
   ]
  },
  {
   "cell_type": "markdown",
   "metadata": {
    "id": "qabfYYPoK-ly"
   },
   "source": [
    "Compute the frequency for each unique value in the categorical feature specified in the code cells below"
   ]
  },
  {
   "cell_type": "code",
   "execution_count": null,
   "metadata": {
    "id": "V9Fe95bPK-ly"
   },
   "outputs": [],
   "source": [
    "#Test Your knowledge\n",
    "#Property_Area"
   ]
  },
  {
   "cell_type": "code",
   "execution_count": null,
   "metadata": {
    "id": "lysRWAMyK-l1"
   },
   "outputs": [],
   "source": [
    "#Test Your knowledge\n",
    "#Dependents"
   ]
  },
  {
   "cell_type": "markdown",
   "metadata": {
    "id": "f1agjKAXK-l4"
   },
   "source": [
    "Create a new dataframe removeNA_df, where you remove the nulls existing in the original dataframe. This is only for being able to visualize distributions. In a later step, we will be focusing on cleaning our original dataset in a better way"
   ]
  },
  {
   "cell_type": "code",
   "execution_count": null,
   "metadata": {
    "id": "BvkUss-UwX4z"
   },
   "outputs": [],
   "source": [
    "#Test Your knowledge"
   ]
  },
  {
   "cell_type": "markdown",
   "metadata": {
    "id": "TX-sjaDBwZhp"
   },
   "source": [
    "Plot the distribution and the boxplot for the variable 'LoanAmount'"
   ]
  },
  {
   "cell_type": "code",
   "execution_count": null,
   "metadata": {
    "id": "3GLVciuCK-l4"
   },
   "outputs": [],
   "source": [
    "#Test Your knowledge"
   ]
  },
  {
   "cell_type": "markdown",
   "metadata": {
    "id": "WlfUMFZ4wpIJ"
   },
   "source": [
    "* Is there any outlier?\n",
    "* Is the data skewed?"
   ]
  },
  {
   "cell_type": "markdown",
   "metadata": {
    "id": "rU8p0AHkHW0J"
   },
   "source": [
    "**[Share your knowledge here]**"
   ]
  },
  {
   "cell_type": "markdown",
   "metadata": {
    "id": "-2F32oVYxAnC"
   },
   "source": [
    "Do the same for the variable 'ApplicantIncome'"
   ]
  },
  {
   "cell_type": "code",
   "execution_count": null,
   "metadata": {
    "id": "KeyynE7mK-l7"
   },
   "outputs": [],
   "source": [
    "#Test Your knowledge"
   ]
  },
  {
   "cell_type": "markdown",
   "metadata": {
    "id": "EHwSidYrK-l9"
   },
   "source": [
    "* Is there any outlier?\n",
    "* Is the data skewed?"
   ]
  },
  {
   "cell_type": "markdown",
   "metadata": {
    "id": "XPmDPvdHHZQv"
   },
   "source": [
    "**[Share your knowledge here]**"
   ]
  },
  {
   "cell_type": "markdown",
   "metadata": {
    "id": "wvNkM1lwxVuw"
   },
   "source": [
    "Do the same for 'CoapplicantIncome'"
   ]
  },
  {
   "cell_type": "code",
   "execution_count": null,
   "metadata": {
    "id": "V1hX-EtOK-l-"
   },
   "outputs": [],
   "source": [
    "#Test Your knowledge"
   ]
  },
  {
   "cell_type": "markdown",
   "metadata": {
    "id": "d6J7td56Hbde"
   },
   "source": [
    "**[Share your knowledge here]**"
   ]
  },
  {
   "cell_type": "markdown",
   "metadata": {
    "id": "w-CLkejNxknD"
   },
   "source": [
    "Do the same for 'Loan_Amount_Term'"
   ]
  },
  {
   "cell_type": "code",
   "execution_count": null,
   "metadata": {
    "id": "ryBLLpCQK-mA"
   },
   "outputs": [],
   "source": [
    "#Test Your knowledge"
   ]
  },
  {
   "cell_type": "markdown",
   "metadata": {
    "id": "EJMwp2wHx6fi"
   },
   "source": [
    "What do you think about outliers in this case?"
   ]
  },
  {
   "cell_type": "markdown",
   "metadata": {
    "id": "3KZ5OHNUHdh8"
   },
   "source": [
    "**[Share your knowledge here]**"
   ]
  },
  {
   "cell_type": "markdown",
   "metadata": {
    "id": "C_L_FuNUyBwK"
   },
   "source": [
    "Plot the value_counts for 'Loan_Amount_term'"
   ]
  },
  {
   "cell_type": "code",
   "execution_count": null,
   "metadata": {
    "id": "UGmNxb_DK-mD"
   },
   "outputs": [],
   "source": [
    "#Test Your knowledge"
   ]
  },
  {
   "cell_type": "markdown",
   "metadata": {
    "id": "HAdIBde9yTmY"
   },
   "source": [
    "Do the same for the categorical variables you have ('Dependants', 'Education', etc), using a subplot of size 4 by 2"
   ]
  },
  {
   "cell_type": "code",
   "execution_count": null,
   "metadata": {
    "id": "-wfu8LlNK-mG"
   },
   "outputs": [],
   "source": [
    "#Test Your knowledge"
   ]
  },
  {
   "cell_type": "markdown",
   "metadata": {
    "id": "c9pcdqP-0GB5"
   },
   "source": [
    "Perform CrossTabing between Gender and Loan_Status, and then plot the acceptance/rejection of loans for different Genders"
   ]
  },
  {
   "cell_type": "code",
   "execution_count": null,
   "metadata": {
    "id": "vKEkDE5bK-mI"
   },
   "outputs": [],
   "source": [
    "#Test Your knowledge"
   ]
  },
  {
   "cell_type": "markdown",
   "metadata": {
    "id": "RE7UIh5_0T83"
   },
   "source": [
    "Does the Gender affect the acceptance of the Loan?"
   ]
  },
  {
   "cell_type": "markdown",
   "metadata": {
    "id": "msFlsQonHgrn"
   },
   "source": [
    "**[Share your knowledge here]**"
   ]
  },
  {
   "cell_type": "markdown",
   "metadata": {
    "id": "lQH8mJ2G0jIv"
   },
   "source": [
    "Do the same with Credit_history and Loan_Status"
   ]
  },
  {
   "cell_type": "code",
   "execution_count": null,
   "metadata": {
    "id": "P_GMY0r_K-mK"
   },
   "outputs": [],
   "source": [
    "#Test Your knowledge"
   ]
  },
  {
   "cell_type": "markdown",
   "metadata": {
    "id": "ohJtw6Sf0u1w"
   },
   "source": [
    "Does the Credit History affect the acceptance of the Loan?"
   ]
  },
  {
   "cell_type": "markdown",
   "metadata": {
    "id": "smcdqo-kHkAX"
   },
   "source": [
    "**[Share your knowledge here]**"
   ]
  },
  {
   "cell_type": "markdown",
   "metadata": {
    "id": "OeetbceF04df"
   },
   "source": [
    "Do the same with Dependents and Loan_Status"
   ]
  },
  {
   "cell_type": "code",
   "execution_count": null,
   "metadata": {
    "id": "bGyaa6z3K-mO"
   },
   "outputs": [],
   "source": [
    "#Test Your knowledge"
   ]
  },
  {
   "cell_type": "markdown",
   "metadata": {
    "id": "PdVe_fqPK-mQ"
   },
   "source": [
    "Does the number of dependents affect the acceptance of the Loan?"
   ]
  },
  {
   "cell_type": "markdown",
   "metadata": {
    "id": "0qUtn1coHlhg"
   },
   "source": [
    "**[Share your knowledge here]**"
   ]
  },
  {
   "cell_type": "markdown",
   "metadata": {
    "id": "o_7TyIEA1IrW"
   },
   "source": [
    "Do the same between Education and Loan_Status"
   ]
  },
  {
   "cell_type": "code",
   "execution_count": null,
   "metadata": {
    "id": "BKCYwmZSK-mQ"
   },
   "outputs": [],
   "source": [
    "#Test Your knowledge"
   ]
  },
  {
   "cell_type": "markdown",
   "metadata": {
    "id": "RTMbGhDjK-mS"
   },
   "source": [
    "Does the level of education affect the acceptance of the Loan?"
   ]
  },
  {
   "cell_type": "markdown",
   "metadata": {
    "id": "9sj0a-cvHnFB"
   },
   "source": [
    "**[Share your knowledge here]**"
   ]
  },
  {
   "cell_type": "markdown",
   "metadata": {
    "id": "U8PV2Czu1Xh2"
   },
   "source": [
    "Do the same between Married and Loan_Status"
   ]
  },
  {
   "cell_type": "code",
   "execution_count": null,
   "metadata": {
    "id": "Oe0AnWl8K-mU"
   },
   "outputs": [],
   "source": [
    "#Test Your knowledge"
   ]
  },
  {
   "cell_type": "markdown",
   "metadata": {
    "id": "2MfVWAuKK-mW"
   },
   "source": [
    "Does the marriage affect the acceptance of the Loan?"
   ]
  },
  {
   "cell_type": "markdown",
   "metadata": {
    "id": "7j7NUwLfHos-"
   },
   "source": [
    "**[Share your knowledge here]**"
   ]
  },
  {
   "cell_type": "markdown",
   "metadata": {
    "id": "SnK8fMJs1m2O"
   },
   "source": [
    "Do the same between Property_Area and Loan_Status"
   ]
  },
  {
   "cell_type": "code",
   "execution_count": null,
   "metadata": {
    "id": "cYaHhLoeK-mW"
   },
   "outputs": [],
   "source": [
    "#Test Your knowledge"
   ]
  },
  {
   "cell_type": "markdown",
   "metadata": {
    "id": "0GpJHhVkK-mY"
   },
   "source": [
    "Does the Property Area affect the acceptance of the Loan?"
   ]
  },
  {
   "cell_type": "markdown",
   "metadata": {
    "id": "KFSGnV5KHqIO"
   },
   "source": [
    "**[Share your knowledge here]**"
   ]
  },
  {
   "cell_type": "markdown",
   "metadata": {
    "id": "UNG_-eKf11xW"
   },
   "source": [
    "Do the same between Self_Employed and Loan_Status"
   ]
  },
  {
   "cell_type": "code",
   "execution_count": null,
   "metadata": {
    "id": "pXCGrtKEK-mY"
   },
   "outputs": [],
   "source": [
    "#Test Your knowledge"
   ]
  },
  {
   "cell_type": "markdown",
   "metadata": {
    "id": "ot0Gf-XJK-ma"
   },
   "source": [
    "Does the Self Employed Property affect the acceptance of the Loan?"
   ]
  },
  {
   "cell_type": "markdown",
   "metadata": {
    "id": "SpYJ0haWHrp3"
   },
   "source": [
    "**[Share your knowledge here]**"
   ]
  },
  {
   "cell_type": "markdown",
   "metadata": {
    "id": "vd5V99_B2YMu"
   },
   "source": [
    "Plot a Scatter Plot between Loan_Status and:\n",
    "* ApplicantIncome\n",
    "* CoapplicantIncome\n",
    "* LoanAmount\n",
    "* LoanAmount_Term"
   ]
  },
  {
   "cell_type": "code",
   "execution_count": null,
   "metadata": {
    "id": "QYx1bcpcK-mb"
   },
   "outputs": [],
   "source": [
    "#Test Your knowledge"
   ]
  },
  {
   "cell_type": "code",
   "execution_count": null,
   "metadata": {
    "id": "J-HJlqYBK-mc"
   },
   "outputs": [],
   "source": [
    "#Test Your knowledge"
   ]
  },
  {
   "cell_type": "code",
   "execution_count": null,
   "metadata": {
    "id": "n6nlooYVK-mf"
   },
   "outputs": [],
   "source": [
    "#Test Your knowledge"
   ]
  },
  {
   "cell_type": "code",
   "execution_count": null,
   "metadata": {
    "id": "PBpJ7-FZK-mh"
   },
   "outputs": [],
   "source": [
    "#Test Your knowledge"
   ]
  },
  {
   "cell_type": "markdown",
   "metadata": {
    "id": "nax_2MFk3EXu"
   },
   "source": [
    "Do you think these scatter plots gave you valuable information about the Loan_Status?"
   ]
  },
  {
   "cell_type": "markdown",
   "metadata": {
    "id": "kwa5jal-Htfu"
   },
   "source": [
    "**[Share your knowledge here]**"
   ]
  },
  {
   "cell_type": "markdown",
   "metadata": {
    "id": "bYCU_Weh3UJ1"
   },
   "source": [
    "Group your dataframe by Loan_Status on the median Value"
   ]
  },
  {
   "cell_type": "code",
   "execution_count": null,
   "metadata": {
    "id": "ye81y7MNK-mj"
   },
   "outputs": [],
   "source": [
    "#Test Your knowledge"
   ]
  },
  {
   "cell_type": "markdown",
   "metadata": {
    "id": "QZ4-cj_M3jaV"
   },
   "source": [
    "What did you deduce?"
   ]
  },
  {
   "cell_type": "markdown",
   "metadata": {
    "id": "uuA79BBhHwVO"
   },
   "source": [
    "**[Share your knowledge here]**"
   ]
  },
  {
   "cell_type": "markdown",
   "metadata": {
    "id": "PuiYEDpYK-mm"
   },
   "source": [
    "# 4. Preprocessing\n",
    "\"Garbage in, garbage out\".\n",
    "<br>\n",
    "<br>\n",
    "Data should be preprocessed and cleaned to get rid of noisy data. Preprocessing includes:\n",
    "\n",
    "- remove unsued column(s)\n",
    "- remove grabage data\n",
    "- convert continous data into categorical\n",
    "- treat missing data\n",
    "- encode categorical data\n",
    "- normalization: standarize data ranges for all features (e.g., between 0 and 1)"
   ]
  },
  {
   "cell_type": "markdown",
   "metadata": {
    "id": "JGumTAZLK-mm"
   },
   "source": [
    "## Remove unused columns"
   ]
  },
  {
   "cell_type": "markdown",
   "metadata": {
    "id": "XtnXZzTM39lp"
   },
   "source": [
    "Remove the features that do not contribute to the prediction of the loan status"
   ]
  },
  {
   "cell_type": "code",
   "execution_count": null,
   "metadata": {
    "id": "Aw3LlHX1K-mn"
   },
   "outputs": [],
   "source": [
    "#Test Your knowledge"
   ]
  },
  {
   "cell_type": "markdown",
   "metadata": {
    "id": "vgIxDdBrK-mp"
   },
   "source": [
    "## Remove grabage data"
   ]
  },
  {
   "cell_type": "markdown",
   "metadata": {
    "id": "BiOIFhTZ4OB9"
   },
   "source": [
    "If you go back to one of the EDA steps where you saw the unique values of Dependents, you can see that you have '3+' as a value. In order to make the algorithm learn from such information, you have to replace this with a number. We will replace it by 3."
   ]
  },
  {
   "cell_type": "code",
   "execution_count": null,
   "metadata": {
    "id": "x55J60oFK-mq"
   },
   "outputs": [],
   "source": [
    "#Test Your knowledge"
   ]
  },
  {
   "cell_type": "markdown",
   "metadata": {
    "id": "oBpOQ6MVK-mr"
   },
   "source": [
    "##Convert continuous data into categorical"
   ]
  },
  {
   "cell_type": "markdown",
   "metadata": {
    "id": "Su3zYNN14rce"
   },
   "source": [
    "Search for the feature that is contionuous but should be categorical and convert it"
   ]
  },
  {
   "cell_type": "code",
   "execution_count": null,
   "metadata": {
    "id": "UATLaXcwK-ms"
   },
   "outputs": [],
   "source": [
    "#Test Your knowledge"
   ]
  },
  {
   "cell_type": "markdown",
   "metadata": {
    "id": "RpDPJgQzK-mu"
   },
   "source": [
    "## Treat missing data\n",
    "- fill missing categorical data & discrete data with mode\n",
    "- fill missing continuous data with mean\n"
   ]
  },
  {
   "cell_type": "code",
   "execution_count": null,
   "metadata": {
    "id": "1ifJSObwK-mv"
   },
   "outputs": [],
   "source": [
    "#Test Your knowledge"
   ]
  },
  {
   "cell_type": "markdown",
   "metadata": {
    "id": "x90s4TXqK-mx"
   },
   "source": [
    "## Check if any null value exist"
   ]
  },
  {
   "cell_type": "code",
   "execution_count": null,
   "metadata": {
    "id": "lJi4rqkcK-mx"
   },
   "outputs": [],
   "source": [
    "#Test Your knowledge"
   ]
  },
  {
   "cell_type": "markdown",
   "metadata": {
    "id": "p-aMmUFxK-m0"
   },
   "source": [
    "## Encode categorical data"
   ]
  },
  {
   "cell_type": "markdown",
   "metadata": {
    "id": "sdFVf2_y5ztH"
   },
   "source": [
    "Go over your categorical features and encode them (change their values to be numerical to be able to feed them to an algorithm and get a model in the end)"
   ]
  },
  {
   "cell_type": "code",
   "execution_count": null,
   "metadata": {
    "id": "glKxNWrh5_9z"
   },
   "outputs": [],
   "source": [
    "#Test Your knowledge"
   ]
  },
  {
   "cell_type": "markdown",
   "metadata": {
    "id": "qjg5n5OfK-m8"
   },
   "source": [
    "## Normalization"
   ]
  },
  {
   "cell_type": "markdown",
   "metadata": {
    "id": "Xkzk1XJBCdUm"
   },
   "source": [
    "Normalize data ranges for all features (e.g., between 0 and 1)\n",
    "First compute the maximum of each feature, and then divide each column by its maximum. After it, describe the data"
   ]
  },
  {
   "cell_type": "code",
   "execution_count": null,
   "metadata": {
    "id": "8FDSN28P6bas"
   },
   "outputs": [],
   "source": [
    "#Test Your knowledge"
   ]
  },
  {
   "cell_type": "markdown",
   "metadata": {
    "id": "rW7e-IqSK-nA"
   },
   "source": [
    "# 6. Training & Validating"
   ]
  },
  {
   "cell_type": "markdown",
   "metadata": {
    "id": "a1R3upjnRVks"
   },
   "source": [
    "Create a variable x for the inputs (Fetaures), and a variable y for the output ('Loan_Status')\n",
    "Then, split the data between training (70%) and testing (30%)."
   ]
  },
  {
   "cell_type": "code",
   "execution_count": null,
   "metadata": {
    "id": "IfUvvKFTK-nA"
   },
   "outputs": [],
   "source": [
    "#Test Your knowledge"
   ]
  },
  {
   "cell_type": "markdown",
   "metadata": {
    "id": "5qIDedqKTtfN"
   },
   "source": [
    "##Creating & Fitting the model"
   ]
  },
  {
   "cell_type": "markdown",
   "metadata": {
    "id": "hWDUL-_y69FP"
   },
   "source": [
    "Create a Logistic Regression Model, and fit it on the training data you have"
   ]
  },
  {
   "cell_type": "code",
   "execution_count": null,
   "metadata": {
    "id": "Ejo6DMwoSTbV"
   },
   "outputs": [],
   "source": [
    "#Test Your knowledge"
   ]
  },
  {
   "cell_type": "markdown",
   "metadata": {
    "id": "xTy8UkrEUNLM"
   },
   "source": [
    "##Validating the model"
   ]
  },
  {
   "cell_type": "markdown",
   "metadata": {
    "id": "Vs4tVSCL7G8W"
   },
   "source": [
    "Validate your model on the testing data, and compute the accuracy score of your predictions"
   ]
  },
  {
   "cell_type": "code",
   "execution_count": null,
   "metadata": {
    "id": "GWFaCCnWUB2y"
   },
   "outputs": [],
   "source": [
    "#Test Your knowledge"
   ]
  },
  {
   "cell_type": "markdown",
   "metadata": {
    "id": "VaHFGXcVUdBb"
   },
   "source": [
    "#7. Feature Importance"
   ]
  },
  {
   "cell_type": "markdown",
   "metadata": {
    "id": "rsx4xYBAUtv9"
   },
   "source": [
    "Evaluate the feature importance in your resulting model, and plot it"
   ]
  },
  {
   "cell_type": "code",
   "execution_count": null,
   "metadata": {
    "id": "N63Z5NZ3US-W"
   },
   "outputs": [],
   "source": [
    "#Test Your knowledge"
   ]
  },
  {
   "cell_type": "markdown",
   "metadata": {
    "id": "PUdgyH7zU1v1"
   },
   "source": [
    "What's the most important feature?"
   ]
  },
  {
   "cell_type": "markdown",
   "metadata": {
    "id": "cKeVLm58H5gJ"
   },
   "source": [
    "**[Share your knowledge here]**"
   ]
  }
 ],
 "metadata": {
  "colab": {
   "provenance": []
  },
  "kernelspec": {
   "display_name": "Python 3",
   "language": "python",
   "name": "python3"
  },
  "language_info": {
   "codemirror_mode": {
    "name": "ipython",
    "version": 3
   },
   "file_extension": ".py",
   "mimetype": "text/x-python",
   "name": "python",
   "nbconvert_exporter": "python",
   "pygments_lexer": "ipython3",
   "version": "3.7.0"
  }
 },
 "nbformat": 4,
 "nbformat_minor": 0
}
